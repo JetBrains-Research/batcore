{
 "cells": [
  {
   "cell_type": "code",
   "execution_count": 1,
   "id": "329f6287",
   "metadata": {},
   "outputs": [],
   "source": [
    "from Container import *\n",
    "from utils import *\n",
    "from Recommender import *\n",
    "from pipeline import *\n",
    "from datetime import datetime, timedelta"
   ]
  },
  {
   "cell_type": "code",
   "execution_count": 2,
   "id": "4f3d5ce9",
   "metadata": {},
   "outputs": [],
   "source": [
    "from tqdm.notebook import tqdm"
   ]
  },
  {
   "cell_type": "code",
   "execution_count": 16,
   "id": "8e630306",
   "metadata": {},
   "outputs": [],
   "source": [
    "import warnings\n",
    "warnings.filterwarnings('ignore')"
   ]
  },
  {
   "cell_type": "code",
   "execution_count": 14,
   "id": "e151a523",
   "metadata": {},
   "outputs": [],
   "source": [
    "def run_on_history(model, events):\n",
    "    from_date = events.date.min()\n",
    "    end_date = events.date.max()\n",
    "\n",
    "    to_date = timedelta(440, 0) + from_date\n",
    "    init = events[(events.date < to_date) & (events.date > from_date)]\n",
    "\n",
    "    model.initialize(init)\n",
    "\n",
    "    preds = []\n",
    "    targets = []\n",
    "    \n",
    "    \n",
    "    for i in tqdm(range(10000)):\n",
    "#     while from_date <= end_date:\n",
    "        \n",
    "        from_date = to_date\n",
    "        to_date = from_date + timedelta(10, 0)\n",
    "        \n",
    "        if from_date > end_date:\n",
    "            break\n",
    "        cur_events = events[(events.date < to_date) & (events.date > from_date)]\n",
    "\n",
    "        pred, target = model.process(cur_events)\n",
    "        preds += pred\n",
    "        targets += target\n",
    "\n",
    "    return preds, targets\n"
   ]
  },
  {
   "cell_type": "code",
   "execution_count": 9,
   "id": "3b9034d5",
   "metadata": {},
   "outputs": [],
   "source": [
    "d = 'beam'"
   ]
  },
  {
   "cell_type": "code",
   "execution_count": 10,
   "id": "034f60b2",
   "metadata": {},
   "outputs": [],
   "source": [
    "data, files, users = get_data(d)"
   ]
  },
  {
   "cell_type": "code",
   "execution_count": 12,
   "id": "06bc2a30",
   "metadata": {},
   "outputs": [],
   "source": [
    "model = SparseRecommender(files, users)"
   ]
  },
  {
   "cell_type": "code",
   "execution_count": 17,
   "id": "1f0372c5",
   "metadata": {},
   "outputs": [
    {
     "data": {
      "application/vnd.jupyter.widget-view+json": {
       "model_id": "dd22e35bdaa94eaf9b8983d5e8f0ca8b",
       "version_major": 2,
       "version_minor": 0
      },
      "text/plain": [
       "  0%|          | 0/10000 [00:00<?, ?it/s]"
      ]
     },
     "metadata": {},
     "output_type": "display_data"
    }
   ],
   "source": [
    "results = run_on_history(model, data)"
   ]
  },
  {
   "cell_type": "code",
   "execution_count": null,
   "id": "638a6ee7",
   "metadata": {},
   "outputs": [],
   "source": [
    "res2 = np.zeros(5)\n",
    "cnt = 0"
   ]
  },
  {
   "cell_type": "code",
   "execution_count": null,
   "id": "86c95c62",
   "metadata": {},
   "outputs": [],
   "source": [
    "for i in range(len(targets)):\n",
    "    if len(targets[i]) > 0:\n",
    "        res2 += count_metrics(preds[i], targets[i])\n",
    "        cnt += 1"
   ]
  },
  {
   "cell_type": "code",
   "execution_count": null,
   "id": "48ec3727",
   "metadata": {},
   "outputs": [],
   "source": []
  },
  {
   "cell_type": "code",
   "execution_count": 25,
   "id": "eca01268",
   "metadata": {},
   "outputs": [],
   "source": [
    "def calculate_metrics_on_review(pred, target):\n",
    "    res = np.zeros(5)\n",
    "    for i, k in enumerate([1, 3, 5, 10]):\n",
    "        if len(set(pred[:k]).intersection(set(target))):\n",
    "            res[i] += 1\n",
    "    rr = np.inf\n",
    "    for t in target:\n",
    "        rr = min(rr, 1 + np.where(pred == t)[0])\n",
    "    res[4] = 1 / rr\n",
    "    return res"
   ]
  },
  {
   "cell_type": "code",
   "execution_count": 26,
   "id": "05611e9e",
   "metadata": {},
   "outputs": [],
   "source": [
    "def calculate_metrics(results):\n",
    "    res = np.zeros(5)\n",
    "    cnt = 0\n",
    "    for pred, target in zip(*results):\n",
    "        if len(target) > 0:\n",
    "            res += calculate_metrics_on_review(pred, target)\n",
    "            cnt += 1\n",
    "    return res / cnt"
   ]
  },
  {
   "cell_type": "code",
   "execution_count": 37,
   "id": "c433f2a5",
   "metadata": {},
   "outputs": [],
   "source": [
    "metrics = calculate_metrics((preds, results[1]))"
   ]
  },
  {
   "cell_type": "code",
   "execution_count": 38,
   "id": "675009b2",
   "metadata": {},
   "outputs": [
    {
     "data": {
      "text/plain": [
       "array([0.00617284, 0.02555268, 0.05656044, 0.2474878 , 0.04451497])"
      ]
     },
     "execution_count": 38,
     "metadata": {},
     "output_type": "execute_result"
    }
   ],
   "source": [
    "metrics"
   ]
  },
  {
   "cell_type": "code",
   "execution_count": null,
   "id": "99d5b0d7",
   "metadata": {},
   "outputs": [],
   "source": []
  }
 ],
 "metadata": {
  "kernelspec": {
   "display_name": "Python 3",
   "language": "python",
   "name": "python3"
  },
  "language_info": {
   "codemirror_mode": {
    "name": "ipython",
    "version": 3
   },
   "file_extension": ".py",
   "mimetype": "text/x-python",
   "name": "python",
   "nbconvert_exporter": "python",
   "pygments_lexer": "ipython3",
   "version": "3.8.8"
  }
 },
 "nbformat": 4,
 "nbformat_minor": 5
}
