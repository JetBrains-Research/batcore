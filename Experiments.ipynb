{
 "cells": [
  {
   "cell_type": "markdown",
   "id": "2eae8733",
   "metadata": {},
   "source": [
    "from Container import *\n",
    "from utils import *\n",
    "from Recommender import *\n",
    "from pipeline import *\n",
    "from datetime import datetime, timedelta"
   ]
  },
  {
   "cell_type": "code",
   "execution_count": 2,
   "id": "4f3d5ce9",
   "metadata": {},
   "outputs": [],
   "source": [
    "from tqdm.notebook import tqdm"
   ]
  },
  {
   "cell_type": "code",
   "execution_count": 16,
   "id": "8e630306",
   "metadata": {},
   "outputs": [],
   "source": [
    "import warnings\n",
    "warnings.filterwarnings('ignore')"
   ]
  },
  {
   "cell_type": "code",
   "execution_count": 14,
   "id": "e151a523",
   "metadata": {},
   "outputs": [],
   "source": [
    "def run_on_history(model, events):\n",
    "    from_date = events.date.min()\n",
    "    end_date = events.date.max()\n",
    "\n",
    "    to_date = timedelta(440, 0) + from_date\n",
    "    init = events[(events.date < to_date) & (events.date > from_date)]\n",
    "\n",
    "    model.initialize(init)\n",
    "\n",
    "    preds = []\n",
    "    targets = []\n",
    "    \n",
    "    \n",
    "    for i in tqdm(range(10000)):\n",
    "#     while from_date <= end_date:\n",
    "        \n",
    "        from_date = to_date\n",
    "        to_date = from_date + timedelta(10, 0)\n",
    "        \n",
    "        if from_date > end_date:\n",
    "            break\n",
    "        cur_events = events[(events.date < to_date) & (events.date > from_date)]\n",
    "\n",
    "        pred, target = model.process(cur_events)\n",
    "        preds += pred\n",
    "        targets += target\n",
    "\n",
    "    return preds, targets\n"
   ]
  },
  {
   "cell_type": "code",
   "execution_count": 9,
   "id": "3b9034d5",
   "metadata": {},
   "outputs": [],
   "source": [
    "d = 'beam'"
   ]
  },
  {
   "cell_type": "code",
   "execution_count": 10,
   "id": "034f60b2",
   "metadata": {},
   "outputs": [],
   "source": [
    "data, files, users = get_data(d)"
   ]
  },
  {
   "cell_type": "code",
   "execution_count": 12,
   "id": "06bc2a30",
   "metadata": {},
   "outputs": [],
   "source": [
    "model = SparseRecommender(files, users)"
   ]
  },
  {
   "cell_type": "code",
   "execution_count": 17,
   "id": "1f0372c5",
   "metadata": {},
   "outputs": [
    {
     "data": {
      "application/vnd.jupyter.widget-view+json": {
       "model_id": "dd22e35bdaa94eaf9b8983d5e8f0ca8b",
       "version_major": 2,
       "version_minor": 0
      },
      "text/plain": [
       "  0%|          | 0/10000 [00:00<?, ?it/s]"
      ]
     },
     "metadata": {},
     "output_type": "display_data"
    }
   ],
   "source": [
    "# ~ 25 минут на все\n",
    "results = run_on_history(model, data)"
   ]
  },
  {
   "cell_type": "code",
   "execution_count": null,
   "id": "638a6ee7",
   "metadata": {},
   "outputs": [],
   "source": [
    "res2 = np.zeros(5)\n",
    "cnt = 0"
   ]
  },
  {
   "cell_type": "code",
   "execution_count": null,
   "id": "86c95c62",
   "metadata": {},
   "outputs": [],
   "source": [
    "for i in range(len(targets)):\n",
    "    if len(targets[i]) > 0:\n",
    "        res2 += count_metrics(preds[i], targets[i])\n",
    "        cnt += 1"
   ]
  },
  {
   "cell_type": "code",
   "execution_count": null,
   "id": "48ec3727",
   "metadata": {},
   "outputs": [],
   "source": []
  },
  {
   "cell_type": "code",
   "execution_count": 25,
   "id": "eca01268",
   "metadata": {},
   "outputs": [],
   "source": [
    "def calculate_metrics_on_review(pred, target):\n",
    "    res = np.zeros(5)\n",
    "    for i, k in enumerate([1, 3, 5, 10]):\n",
    "        if len(set(pred[:k]).intersection(set(target))):\n",
    "            res[i] += 1\n",
    "    rr = np.inf\n",
    "    for t in target:\n",
    "        rr = min(rr, 1 + np.where(pred == t)[0])\n",
    "    res[4] = 1 / rr\n",
    "    return res"
   ]
  },
  {
   "cell_type": "code",
   "execution_count": 26,
   "id": "05611e9e",
   "metadata": {},
   "outputs": [],
   "source": [
    "def calculate_metrics(results):\n",
    "    res = np.zeros(5)\n",
    "    cnt = 0\n",
    "    for pred, target in zip(*results):\n",
    "        if len(target) > 0:\n",
    "            res += calculate_metrics_on_review(pred, target)\n",
    "            cnt += 1\n",
    "    return res / cnt"
   ]
  },
  {
   "cell_type": "code",
   "execution_count": 37,
   "id": "c433f2a5",
   "metadata": {},
   "outputs": [],
   "source": [
    "metrics = calculate_metrics((preds, results[1]))"
   ]
  },
  {
   "cell_type": "code",
   "execution_count": 38,
   "id": "675009b2",
   "metadata": {},
   "outputs": [
    {
     "data": {
      "text/plain": [
       "array([0.00617284, 0.02555268, 0.05656044, 0.2474878 , 0.04451497])"
      ]
     },
     "execution_count": 38,
     "metadata": {},
     "output_type": "execute_result"
    }
   ],
   "source": [
    "metrics"
   ]
  },
  {
   "cell_type": "code",
   "execution_count": 4,
   "id": "99d5b0d7",
   "metadata": {},
   "outputs": [],
   "source": [
    "dfs = get_df('beam')"
   ]
  },
  {
   "cell_type": "code",
   "execution_count": 6,
   "id": "ae7bc094",
   "metadata": {},
   "outputs": [
    {
     "data": {
      "text/plain": [
       "dict_keys(['reviewer', 'commit_file', 'pull', 'participant', 'pull_author', 'pull_file', 'commit_author', 'file', 'commit', 'user'])"
      ]
     },
     "execution_count": 6,
     "metadata": {},
     "output_type": "execute_result"
    }
   ],
   "source": [
    "dfs.keys()"
   ]
  },
  {
   "cell_type": "code",
   "execution_count": 16,
   "id": "fb13fbd2",
   "metadata": {},
   "outputs": [
    {
     "data": {
      "text/html": [
       "<div>\n",
       "<style scoped>\n",
       "    .dataframe tbody tr th:only-of-type {\n",
       "        vertical-align: middle;\n",
       "    }\n",
       "\n",
       "    .dataframe tbody tr th {\n",
       "        vertical-align: top;\n",
       "    }\n",
       "\n",
       "    .dataframe thead th {\n",
       "        text-align: right;\n",
       "    }\n",
       "</style>\n",
       "<table border=\"1\" class=\"dataframe\">\n",
       "  <thead>\n",
       "    <tr style=\"text-align: right;\">\n",
       "      <th></th>\n",
       "      <th>login</th>\n",
       "      <th>name_github</th>\n",
       "      <th>email_github</th>\n",
       "      <th>name_git</th>\n",
       "      <th>email_git</th>\n",
       "    </tr>\n",
       "  </thead>\n",
       "  <tbody>\n",
       "    <tr>\n",
       "      <th>0</th>\n",
       "      <td>0xmax</td>\n",
       "      <td>['Max Buschner']</td>\n",
       "      <td>[]</td>\n",
       "      <td>[]</td>\n",
       "      <td>[]</td>\n",
       "    </tr>\n",
       "    <tr>\n",
       "      <th>1</th>\n",
       "      <td>1028332163</td>\n",
       "      <td>['lasynchronous']</td>\n",
       "      <td>['1028332163@qq.com']</td>\n",
       "      <td>['1028332163']</td>\n",
       "      <td>['1028332163@qq.com']</td>\n",
       "    </tr>\n",
       "    <tr>\n",
       "      <th>2</th>\n",
       "      <td>11moon11</td>\n",
       "      <td>['Kirill Kozlov']</td>\n",
       "      <td>[]</td>\n",
       "      <td>['kirillkozlov', 'Kirill Kozlov']</td>\n",
       "      <td>['kirillkozlov@google.com', '8753059+11moon11@...</td>\n",
       "    </tr>\n",
       "    <tr>\n",
       "      <th>3</th>\n",
       "      <td>397090770</td>\n",
       "      <td>['wyp']</td>\n",
       "      <td>[]</td>\n",
       "      <td>['iteblog']</td>\n",
       "      <td>['wyphao.2007@163.com']</td>\n",
       "    </tr>\n",
       "    <tr>\n",
       "      <th>4</th>\n",
       "      <td>=:=</td>\n",
       "      <td>[]</td>\n",
       "      <td>[]</td>\n",
       "      <td>['=']</td>\n",
       "      <td>['=']</td>\n",
       "    </tr>\n",
       "    <tr>\n",
       "      <th>...</th>\n",
       "      <td>...</td>\n",
       "      <td>...</td>\n",
       "      <td>...</td>\n",
       "      <td>...</td>\n",
       "      <td>...</td>\n",
       "    </tr>\n",
       "    <tr>\n",
       "      <th>1005</th>\n",
       "      <td>zongweiz</td>\n",
       "      <td>[]</td>\n",
       "      <td>[]</td>\n",
       "      <td>['Zongwei Zhou']</td>\n",
       "      <td>['zongweiz@google.com']</td>\n",
       "    </tr>\n",
       "    <tr>\n",
       "      <th>1006</th>\n",
       "      <td>zorro786</td>\n",
       "      <td>['Abdul Qadeer']</td>\n",
       "      <td>[]</td>\n",
       "      <td>[]</td>\n",
       "      <td>[]</td>\n",
       "    </tr>\n",
       "    <tr>\n",
       "      <th>1007</th>\n",
       "      <td>zouabimourad</td>\n",
       "      <td>['Mourad ZOUABI']</td>\n",
       "      <td>[]</td>\n",
       "      <td>[]</td>\n",
       "      <td>[]</td>\n",
       "    </tr>\n",
       "    <tr>\n",
       "      <th>1008</th>\n",
       "      <td>zoyahav</td>\n",
       "      <td>['Zohar Yahav']</td>\n",
       "      <td>[]</td>\n",
       "      <td>[]</td>\n",
       "      <td>[]</td>\n",
       "    </tr>\n",
       "    <tr>\n",
       "      <th>1009</th>\n",
       "      <td>zznate</td>\n",
       "      <td>['Nate McCall']</td>\n",
       "      <td>['zznate.m@gmail.com']</td>\n",
       "      <td>[]</td>\n",
       "      <td>[]</td>\n",
       "    </tr>\n",
       "  </tbody>\n",
       "</table>\n",
       "<p>1010 rows × 5 columns</p>\n",
       "</div>"
      ],
      "text/plain": [
       "             login        name_github            email_github  \\\n",
       "0            0xmax   ['Max Buschner']                      []   \n",
       "1       1028332163  ['lasynchronous']   ['1028332163@qq.com']   \n",
       "2         11moon11  ['Kirill Kozlov']                      []   \n",
       "3        397090770            ['wyp']                      []   \n",
       "4              =:=                 []                      []   \n",
       "...            ...                ...                     ...   \n",
       "1005      zongweiz                 []                      []   \n",
       "1006      zorro786   ['Abdul Qadeer']                      []   \n",
       "1007  zouabimourad  ['Mourad ZOUABI']                      []   \n",
       "1008       zoyahav    ['Zohar Yahav']                      []   \n",
       "1009        zznate    ['Nate McCall']  ['zznate.m@gmail.com']   \n",
       "\n",
       "                               name_git  \\\n",
       "0                                    []   \n",
       "1                        ['1028332163']   \n",
       "2     ['kirillkozlov', 'Kirill Kozlov']   \n",
       "3                           ['iteblog']   \n",
       "4                                 ['=']   \n",
       "...                                 ...   \n",
       "1005                   ['Zongwei Zhou']   \n",
       "1006                                 []   \n",
       "1007                                 []   \n",
       "1008                                 []   \n",
       "1009                                 []   \n",
       "\n",
       "                                              email_git  \n",
       "0                                                    []  \n",
       "1                                 ['1028332163@qq.com']  \n",
       "2     ['kirillkozlov@google.com', '8753059+11moon11@...  \n",
       "3                               ['wyphao.2007@163.com']  \n",
       "4                                                 ['=']  \n",
       "...                                                 ...  \n",
       "1005                            ['zongweiz@google.com']  \n",
       "1006                                                 []  \n",
       "1007                                                 []  \n",
       "1008                                                 []  \n",
       "1009                                                 []  \n",
       "\n",
       "[1010 rows x 5 columns]"
      ]
     },
     "execution_count": 16,
     "metadata": {},
     "output_type": "execute_result"
    }
   ],
   "source": [
    "dfs['user']"
   ]
  },
  {
   "cell_type": "code",
   "execution_count": null,
   "id": "ff6452fd",
   "metadata": {},
   "outputs": [],
   "source": []
  },
  {
   "cell_type": "code",
   "execution_count": null,
   "id": "6aff1474",
   "metadata": {},
   "outputs": [],
   "source": []
  }
 ],
 "metadata": {
  "kernelspec": {
   "display_name": "Python 3",
   "language": "python",
   "name": "python3"
  },
  "language_info": {
   "codemirror_mode": {
    "name": "ipython",
    "version": 3
   },
   "file_extension": ".py",
   "mimetype": "text/x-python",
   "name": "python",
   "nbconvert_exporter": "python",
   "pygments_lexer": "ipython3",
   "version": "3.8.8"
  }
 },
 "nbformat": 4,
 "nbformat_minor": 5
}
